{
  "nbformat": 4,
  "nbformat_minor": 0,
  "metadata": {
    "kernelspec": {
      "display_name": "Python 2",
      "language": "python",
      "name": "python2"
    },
    "language_info": {
      "codemirror_mode": {
        "name": "ipython",
        "version": 2
      },
      "file_extension": ".py",
      "mimetype": "text/x-python",
      "name": "python",
      "nbconvert_exporter": "python",
      "pygments_lexer": "ipython2",
      "version": "2.7.15"
    },
    "colab": {
      "name": "TapmadTv(july_users).ipynb",
      "provenance": [],
      "collapsed_sections": []
    }
  },
  "cells": [
    {
      "cell_type": "markdown",
      "metadata": {
        "id": "u4AyUO6nLZeU",
        "colab_type": "text"
      },
      "source": [
        "# Churn Analysis"
      ]
    },
    {
      "cell_type": "code",
      "metadata": {
        "id": "Be5BZBwELZeW",
        "colab_type": "code",
        "colab": {}
      },
      "source": [
        "import numpy as np \n",
        "import pandas as pd # data processing, CSV file I/O (e.g. pd.read_csv)\n",
        "import seaborn as sns\n",
        "import matplotlib.pyplot as plt\n",
        "%matplotlib inline \n",
        "from IPython.display import Image\n",
        "import matplotlib as mlp\n",
        "import matplotlib.pyplot as plt\n",
        "import numpy as np\n",
        "import os\n",
        "import pandas as pd\n",
        "import sklearn\n",
        "import seaborn as sns\n",
        "from datetime import timedelta\n",
        "from datetime import date\n",
        "import datetime"
      ],
      "execution_count": 0,
      "outputs": []
    },
    {
      "cell_type": "markdown",
      "metadata": {
        "id": "z8vFqqdJLZeZ",
        "colab_type": "text"
      },
      "source": [
        "# Data Exploration"
      ]
    },
    {
      "cell_type": "code",
      "metadata": {
        "id": "R6d8qYtfLZea",
        "colab_type": "code",
        "colab": {},
        "outputId": "32fbbe39-c02e-4068-8fb8-0c538a55142d"
      },
      "source": [
        "users = pd.read_csv(\"C:\\\\Users\\\\hp\\\\Documents\\\\Mergedtables\\\\July 01-31.csv\")\n",
        "print(users)"
      ],
      "execution_count": 0,
      "outputs": [
        {
          "output_type": "stream",
          "text": [
            "        UserId         UserUsername  UserChatId  UserPackageType  \\\n",
            "0      2024657  TAWKu0oJ5d3c6puvfCR         NaN           1003.0   \n",
            "1      2024681  TAiXdUFsBTIEfkGiOCR         NaN              NaN   \n",
            "2      2024745  TAiyRNN22ftBTIFYsCR         NaN           1003.0   \n",
            "3      2024792  TAETNzewvk9UXsOHRCR         NaN           1003.0   \n",
            "4      2024803  TAQmZUmgpVpseIXWKCR         NaN           1003.0   \n",
            "5      2024813  TA6Fkvr5oGjtiNyWvCR         NaN           1003.0   \n",
            "6      2024842  TAeEgy2PnshXDZ16DCR         NaN           1003.0   \n",
            "7      2024858  TAri0LVUzCOpqO1fnCR         NaN              NaN   \n",
            "8      2024861  TAnHJxCxTwUlgoK4cCR         NaN           1003.0   \n",
            "9      2024878  TAxr4YPr1Ywv1yxwnCR         NaN              NaN   \n",
            "10     2024869          T3000662852         NaN           1007.0   \n",
            "11     2024883  TAUMBOUskgj1aR7qwCR         NaN              NaN   \n",
            "12     2024897  TAvnsmDqOpjeP668TCR         NaN           1003.0   \n",
            "13     2024896  TAelY6CApe0OPtYrNCR         NaN              NaN   \n",
            "14     2024944          T3008680384         NaN           1007.0   \n",
            "15     2024952  TAEyzySMLnSs4aM0DCR         NaN           1003.0   \n",
            "16     2024965  TAzSd3EVKQDYvLOdPCR         NaN              NaN   \n",
            "17     2024973  TAR4wG6CfOxr96UxOCR         NaN           1003.0   \n",
            "18     2024974  TAGENLHNZCvgBLhXXCR         NaN              NaN   \n",
            "19     2024992  TA3Zenos3HEPGj8k5CR         NaN           1003.0   \n",
            "20     2025065  TASr5rcUCgwUK4CFxCR         NaN              NaN   \n",
            "21     2025107  TAFm8RqzeyPxXHEkCCR         NaN           1003.0   \n",
            "22     2025134  TATxbNqh7gSEUv5V9CR         NaN           1003.0   \n",
            "23     2025183  TAyq3JZ1MU7uPCjArCR         NaN              NaN   \n",
            "24     2024861  TAnHJxCxTwUlgoK4cCR         NaN           1003.0   \n",
            "25     2025189  TABcjsEMpBZKdvF33CR         NaN           1003.0   \n",
            "26     2025252  TA7BEM0ADHWtlddW5CR         NaN              NaN   \n",
            "27     2025321  TAqmxMyhk20qbgZ5FCR         NaN              NaN   \n",
            "28     2025327  TA0s9KXY7zGxQ2OKMCR         NaN              NaN   \n",
            "29     2025305          T3406491818         NaN           1007.0   \n",
            "...        ...                  ...         ...              ...   \n",
            "19676  2203507  TAa2swCCB08jR5u4mCR         NaN           1007.0   \n",
            "19677  2304750  TAniuWBrHVtL9mz5ECR         NaN              NaN   \n",
            "19678  2128789  TAQf9a8akfOlZ83C4CR         NaN              NaN   \n",
            "19679  2266345  TA2gyiLX1hDpoZIotCR         NaN              NaN   \n",
            "19680  2236288  TAbdEB2mbd9JKSJg1CR         NaN              NaN   \n",
            "19681  2322740  TAGjqO1aTfO1ihRzxCR         NaN              NaN   \n",
            "19682  2033550  TATuVTUxAdkGqkfQKCR         NaN           1003.0   \n",
            "19683  2073719  TAwDa3QY65ng5KypdCR         NaN           1003.0   \n",
            "19684  2074352  TA7DA1mh3zTYJ2LMPCR         NaN           1003.0   \n",
            "19685  2074407  TAxNFqFQFeH4kTJHCCR         NaN           1003.0   \n",
            "19686  2074481  TAipKGH8JRPF5cAPlCR         NaN           1003.0   \n",
            "19687  2074793  TAc7EEJSIkUgOlbybCR         NaN           1003.0   \n",
            "19688  2075675  TAZKEaqZiFgLrSFInCR         NaN           1003.0   \n",
            "19689  2176042  TA3q7Kx805XJd1qiUCR         NaN           1003.0   \n",
            "19690  2287416  TALwU8ZI9f6ZSqO1UCR         NaN           1007.0   \n",
            "19691  2287888  TAjDaKvFwqJjrTVlMCR         NaN           1007.0   \n",
            "19692  2288668          T3464066751         NaN           1007.0   \n",
            "19693  2288938  TAfwWmHpZxMPUBE1YCR         NaN           1007.0   \n",
            "19694  2294205          T3466164863         NaN           1007.0   \n",
            "19695  2168829  TAgAbcaB8Mog19ZeCCR         NaN           1003.0   \n",
            "19696  2287325          T3060450650         NaN           1007.0   \n",
            "19697  2295237          T3046811048         NaN           1007.0   \n",
            "19698  2291098          T3119267334         NaN           1007.0   \n",
            "19699  2290248          T3147502302         NaN           1007.0   \n",
            "19700  2294423          T3154036806         NaN           1007.0   \n",
            "19701  2283485          T3115974967         NaN           1007.0   \n",
            "19702  2138996  TAco5oIOmSXS2IaN6CR         NaN           1007.0   \n",
            "19703  2286022  TAiZqnQdGh2Wfbvw5CR         NaN              NaN   \n",
            "19704  2302265  TAdhm7IRhGtARchlmCR         NaN              NaN   \n",
            "19705  2201987  TA8fyrK5YqTA2fcaACR         NaN              NaN   \n",
            "\n",
            "       UserPackageIsRecurring  UserEmail  UserFacebookId  UserDeviceId  \\\n",
            "0                         1.0        NaN             NaN           NaN   \n",
            "1                         0.0        NaN             NaN           NaN   \n",
            "2                         1.0        NaN             NaN           NaN   \n",
            "3                         1.0        NaN             NaN           NaN   \n",
            "4                         1.0        NaN             NaN           NaN   \n",
            "5                         1.0        NaN             NaN           NaN   \n",
            "6                         1.0        NaN             NaN           NaN   \n",
            "7                         0.0        NaN             NaN           NaN   \n",
            "8                         1.0        NaN             NaN           NaN   \n",
            "9                         0.0        NaN             NaN           NaN   \n",
            "10                        1.0        NaN             NaN           NaN   \n",
            "11                        0.0        NaN             NaN           NaN   \n",
            "12                        1.0        NaN             NaN           NaN   \n",
            "13                        0.0        NaN             NaN           NaN   \n",
            "14                        1.0        NaN             NaN           NaN   \n",
            "15                        1.0        NaN             NaN           NaN   \n",
            "16                        0.0        NaN             NaN           NaN   \n",
            "17                        1.0        NaN             NaN           NaN   \n",
            "18                        0.0        NaN             NaN           NaN   \n",
            "19                        1.0        NaN             NaN           NaN   \n",
            "20                        0.0        NaN             NaN           NaN   \n",
            "21                        1.0        NaN             NaN           NaN   \n",
            "22                        1.0        NaN             NaN           NaN   \n",
            "23                        0.0        NaN             NaN           NaN   \n",
            "24                        1.0        NaN             NaN           NaN   \n",
            "25                        1.0        NaN             NaN           NaN   \n",
            "26                        0.0        NaN             NaN           NaN   \n",
            "27                        0.0        NaN             NaN           NaN   \n",
            "28                        0.0        NaN             NaN           NaN   \n",
            "29                        1.0        NaN             NaN           NaN   \n",
            "...                       ...        ...             ...           ...   \n",
            "19676                     1.0        NaN             NaN           NaN   \n",
            "19677                     0.0        NaN             NaN           NaN   \n",
            "19678                     0.0        NaN             NaN           NaN   \n",
            "19679                     0.0        NaN             NaN           NaN   \n",
            "19680                     0.0        NaN             NaN           NaN   \n",
            "19681                     0.0        NaN             NaN           NaN   \n",
            "19682                     1.0        NaN             NaN           NaN   \n",
            "19683                     1.0        NaN             NaN           NaN   \n",
            "19684                     1.0        NaN             NaN           NaN   \n",
            "19685                     1.0        NaN             NaN           NaN   \n",
            "19686                     1.0        NaN             NaN           NaN   \n",
            "19687                     1.0        NaN             NaN           NaN   \n",
            "19688                     1.0        NaN             NaN           NaN   \n",
            "19689                     1.0        NaN             NaN           NaN   \n",
            "19690                     1.0        NaN             NaN           NaN   \n",
            "19691                     1.0        NaN             NaN           NaN   \n",
            "19692                     1.0        NaN             NaN           NaN   \n",
            "19693                     1.0        NaN             NaN           NaN   \n",
            "19694                     1.0        NaN             NaN           NaN   \n",
            "19695                     1.0        NaN             NaN           NaN   \n",
            "19696                     1.0        NaN             NaN           NaN   \n",
            "19697                     1.0        NaN             NaN           NaN   \n",
            "19698                     1.0        NaN             NaN           NaN   \n",
            "19699                     1.0        NaN             NaN           NaN   \n",
            "19700                     1.0        NaN             NaN           NaN   \n",
            "19701                     1.0        NaN             NaN           NaN   \n",
            "19702                     1.0        NaN             NaN           NaN   \n",
            "19703                     0.0        NaN             NaN           NaN   \n",
            "19704                     0.0        NaN             NaN           NaN   \n",
            "19705                     0.0        NaN             NaN           NaN   \n",
            "\n",
            "       UserIsFree  UserIsActive               ...                 \\\n",
            "0               0             1               ...                  \n",
            "1               1             1               ...                  \n",
            "2               0             1               ...                  \n",
            "3               0             1               ...                  \n",
            "4               0             1               ...                  \n",
            "5               0             1               ...                  \n",
            "6               0             1               ...                  \n",
            "7               1             1               ...                  \n",
            "8               0             1               ...                  \n",
            "9               1             1               ...                  \n",
            "10              0             1               ...                  \n",
            "11              1             1               ...                  \n",
            "12              0             1               ...                  \n",
            "13              1             1               ...                  \n",
            "14              0             1               ...                  \n",
            "15              0             1               ...                  \n",
            "16              1             1               ...                  \n",
            "17              0             1               ...                  \n",
            "18              1             1               ...                  \n",
            "19              0             1               ...                  \n",
            "20              1             1               ...                  \n",
            "21              0             1               ...                  \n",
            "22              0             1               ...                  \n",
            "23              1             1               ...                  \n",
            "24              0             1               ...                  \n",
            "25              0             1               ...                  \n",
            "26              1             1               ...                  \n",
            "27              1             1               ...                  \n",
            "28              1             1               ...                  \n",
            "29              0             1               ...                  \n",
            "...           ...           ...               ...                  \n",
            "19676           0             1               ...                  \n",
            "19677           1             1               ...                  \n",
            "19678           1             1               ...                  \n",
            "19679           1             1               ...                  \n",
            "19680           1             1               ...                  \n",
            "19681           1             1               ...                  \n",
            "19682           0             1               ...                  \n",
            "19683           0             1               ...                  \n",
            "19684           0             1               ...                  \n",
            "19685           0             1               ...                  \n",
            "19686           0             1               ...                  \n",
            "19687           0             1               ...                  \n",
            "19688           0             1               ...                  \n",
            "19689           0             1               ...                  \n",
            "19690           0             1               ...                  \n",
            "19691           0             1               ...                  \n",
            "19692           0             1               ...                  \n",
            "19693           0             1               ...                  \n",
            "19694           0             1               ...                  \n",
            "19695           0             1               ...                  \n",
            "19696           0             1               ...                  \n",
            "19697           0             1               ...                  \n",
            "19698           0             1               ...                  \n",
            "19699           0             1               ...                  \n",
            "19700           0             1               ...                  \n",
            "19701           0             1               ...                  \n",
            "19702           0             1               ...                  \n",
            "19703           1             1               ...                  \n",
            "19704           1             1               ...                  \n",
            "19705           1             1               ...                  \n",
            "\n",
            "      UserPaymentTransactionId UserPaymentStatus  UserPaymentStartDate  \\\n",
            "0                      2625771                 0   2018-07-01 00:05:18   \n",
            "1                      2625772                 0   2018-07-01 00:06:05   \n",
            "2                      2625773                 0   2018-07-01 00:09:42   \n",
            "3                      2625776                 1   2018-07-01 00:14:15   \n",
            "4                      2625778                 1   2018-07-01 00:15:03   \n",
            "5                      2625780                 0   2018-07-01 00:15:27   \n",
            "6                      2625783                 0   2018-07-01 00:17:31   \n",
            "7                      2625786                 0   2018-07-01 00:18:49   \n",
            "8                      2625787                 1   2018-07-01 00:19:04   \n",
            "9                      2625788                 0   2018-07-01 00:20:13   \n",
            "10                     2625789                 1   2018-07-01 00:20:16   \n",
            "11                     2625790                 0   2018-07-01 00:20:26   \n",
            "12                     2625792                 1   2018-07-01 00:21:50   \n",
            "13                     2625794                 0   2018-07-01 00:21:51   \n",
            "14                     2625800                 1   2018-07-01 00:25:16   \n",
            "15                     2625802                 1   2018-07-01 00:25:38   \n",
            "16                     2625803                 0   2018-07-01 00:26:05   \n",
            "17                     2625805                 1   2018-07-01 00:26:47   \n",
            "18                     2625806                 0   2018-07-01 00:26:51   \n",
            "19                     2625809                 1   2018-07-01 00:28:14   \n",
            "20                     2625812                 0   2018-07-01 00:31:22   \n",
            "21                     2625814                 1   2018-07-01 00:32:53   \n",
            "22                     2625817                 0   2018-07-01 00:34:22   \n",
            "23                     2625823                 0   2018-07-01 00:37:40   \n",
            "24                           0                 0   2018-07-01 00:37:51   \n",
            "25                     2625825                 1   2018-07-01 00:38:00   \n",
            "26                     2625829                 0   2018-07-01 00:42:33   \n",
            "27                     2625835                 0   2018-07-01 00:45:50   \n",
            "28                     2625837                 0   2018-07-01 00:46:15   \n",
            "29                     2625839                 1   2018-07-01 00:46:46   \n",
            "...                        ...               ...                   ...   \n",
            "19676                  2652782                 1   2018-08-02 12:49:17   \n",
            "19677                  2652790                 0   2018-08-02 13:00:39   \n",
            "19678                  2652794                 0   2018-08-02 13:03:03   \n",
            "19679                  2652817                 0   2018-08-02 13:16:14   \n",
            "19680                  2652827                 0   2018-08-02 13:23:18   \n",
            "19681                  2652828                 0   2018-08-02 13:23:46   \n",
            "19682                   999688                 1   2018-08-02 13:30:10   \n",
            "19683                   999689                 1   2018-08-02 13:30:18   \n",
            "19684                   999691                 1   2018-08-02 13:30:24   \n",
            "19685                   999692                 1   2018-08-02 13:30:26   \n",
            "19686                   999693                 1   2018-08-02 13:30:28   \n",
            "19687                   999695                 1   2018-08-02 13:30:31   \n",
            "19688                   999697                 1   2018-08-02 13:30:37   \n",
            "19689                   999699                 1   2018-08-02 13:30:50   \n",
            "19690                   999700                 1   2018-08-02 13:30:52   \n",
            "19691                   999701                 1   2018-08-02 13:30:53   \n",
            "19692                   999702                 1   2018-08-02 13:30:57   \n",
            "19693                   999703                 1   2018-08-02 13:30:58   \n",
            "19694                   999704                 1   2018-08-02 13:31:02   \n",
            "19695                   999707                 1   2018-08-02 13:31:09   \n",
            "19696                   999712                 1   2018-08-02 13:32:37   \n",
            "19697                   999713                 1   2018-08-02 13:32:37   \n",
            "19698                        0                 0   2018-08-02 13:35:38   \n",
            "19699                        0                 0   2018-08-02 13:35:41   \n",
            "19700                        0                 0   2018-08-02 13:35:44   \n",
            "19701                   999761                 1   2018-08-02 13:35:47   \n",
            "19702                  2652845                 1   2018-08-02 13:37:33   \n",
            "19703                  2652850                 0   2018-08-02 13:40:38   \n",
            "19704                  2652852                 0   2018-08-02 13:41:51   \n",
            "19705                  2652853                 0   2018-08-02 13:43:11   \n",
            "\n",
            "      UserPaymentEndDate  UserPaymentIsRecurring    UserPaymentIP  \\\n",
            "0                    NaN                       1  111.119.160.222   \n",
            "1                    NaN                       1  111.119.160.222   \n",
            "2                    NaN                       1  111.119.160.222   \n",
            "3                    NaN                       1  111.119.160.222   \n",
            "4                    NaN                       1  111.119.160.222   \n",
            "5                    NaN                       1  111.119.160.222   \n",
            "6                    NaN                       1  111.119.160.222   \n",
            "7                    NaN                       1  111.119.160.222   \n",
            "8                    NaN                       1  111.119.160.222   \n",
            "9                    NaN                       1  111.119.160.222   \n",
            "10                   NaN                       1  111.119.160.222   \n",
            "11                   NaN                       1  111.119.160.222   \n",
            "12                   NaN                       1  111.119.160.222   \n",
            "13                   NaN                       1  111.119.160.222   \n",
            "14                   NaN                       1  111.119.160.222   \n",
            "15                   NaN                       1  111.119.160.222   \n",
            "16                   NaN                       1  111.119.160.222   \n",
            "17                   NaN                       1  111.119.160.222   \n",
            "18                   NaN                       1  111.119.160.222   \n",
            "19                   NaN                       1  111.119.160.222   \n",
            "20                   NaN                       1  111.119.160.222   \n",
            "21                   NaN                       1  111.119.160.222   \n",
            "22                   NaN                       1  111.119.160.222   \n",
            "23                   NaN                       1  111.119.160.222   \n",
            "24                   NaN                       1  111.119.160.222   \n",
            "25                   NaN                       1  111.119.160.222   \n",
            "26                   NaN                       1  111.119.160.222   \n",
            "27                   NaN                       1  111.119.160.222   \n",
            "28                   NaN                       1  111.119.160.222   \n",
            "29                   NaN                       1  111.119.160.222   \n",
            "...                  ...                     ...              ...   \n",
            "19676                NaN                       1  111.119.160.222   \n",
            "19677                NaN                       1  111.119.160.222   \n",
            "19678                NaN                       1  111.119.160.222   \n",
            "19679                NaN                       1  111.119.160.222   \n",
            "19680                NaN                       1  111.119.160.222   \n",
            "19681                NaN                       1  111.119.160.222   \n",
            "19682                NaN                       1  111.119.160.221   \n",
            "19683                NaN                       1  111.119.160.221   \n",
            "19684                NaN                       1  111.119.160.221   \n",
            "19685                NaN                       1  111.119.160.221   \n",
            "19686                NaN                       1  111.119.160.221   \n",
            "19687                NaN                       1  111.119.160.221   \n",
            "19688                NaN                       1  111.119.160.221   \n",
            "19689                NaN                       1  111.119.160.221   \n",
            "19690                NaN                       1  111.119.160.221   \n",
            "19691                NaN                       1  111.119.160.221   \n",
            "19692                NaN                       1  111.119.160.221   \n",
            "19693                NaN                       1  111.119.160.221   \n",
            "19694                NaN                       1  111.119.160.221   \n",
            "19695                NaN                       1  111.119.160.221   \n",
            "19696                NaN                       1  111.119.160.221   \n",
            "19697                NaN                       1  111.119.160.221   \n",
            "19698                NaN                       1  111.119.160.221   \n",
            "19699                NaN                       1  111.119.160.221   \n",
            "19700                NaN                       1  111.119.160.221   \n",
            "19701                NaN                       1  111.119.160.221   \n",
            "19702                NaN                       1  111.119.160.222   \n",
            "19703                NaN                       1  111.119.160.222   \n",
            "19704                NaN                       1  111.119.160.222   \n",
            "19705                NaN                       1  111.119.160.222   \n",
            "\n",
            "       UserPaymentMobileNumber  UserPaymentMerchantID  UserPaymentOperatorID  \\\n",
            "0                          NaN                    NaN                 100002   \n",
            "1                          NaN                    NaN                 100002   \n",
            "2                          NaN                    NaN                 100002   \n",
            "3                          NaN                    NaN                 100002   \n",
            "4                          NaN                    NaN                 100002   \n",
            "5                          NaN                    NaN                 100002   \n",
            "6                          NaN                    NaN                 100002   \n",
            "7                          NaN                    NaN                 100002   \n",
            "8                          NaN                    NaN                 100002   \n",
            "9                          NaN                    NaN                 100002   \n",
            "10                3.000663e+09                    NaN                 100001   \n",
            "11                         NaN                    NaN                 100002   \n",
            "12                         NaN                    NaN                 100002   \n",
            "13                         NaN                    NaN                 100002   \n",
            "14                3.008680e+09                    NaN                 100001   \n",
            "15                         NaN                    NaN                 100002   \n",
            "16                         NaN                    NaN                 100002   \n",
            "17                         NaN                    NaN                 100002   \n",
            "18                         NaN                    NaN                 100002   \n",
            "19                         NaN                    NaN                 100002   \n",
            "20                         NaN                    NaN                 100002   \n",
            "21                         NaN                    NaN                 100002   \n",
            "22                         NaN                    NaN                 100002   \n",
            "23                         NaN                    NaN                 100002   \n",
            "24                         NaN                    NaN                 100002   \n",
            "25                         NaN                    NaN                 100002   \n",
            "26                         NaN                    NaN                 100002   \n",
            "27                         NaN                    NaN                 100002   \n",
            "28                         NaN                    NaN                 100002   \n",
            "29                3.406492e+09                    NaN                 100002   \n",
            "...                        ...                    ...                    ...   \n",
            "19676                      NaN                    NaN                 100002   \n",
            "19677                      NaN                    NaN                 100002   \n",
            "19678                      NaN                    NaN                 100002   \n",
            "19679                      NaN                    NaN                 100002   \n",
            "19680                      NaN                    NaN                 100002   \n",
            "19681                      NaN                    NaN                 100002   \n",
            "19682                      NaN                    NaN                 100002   \n",
            "19683                      NaN                    NaN                 100002   \n",
            "19684                      NaN                    NaN                 100002   \n",
            "19685                      NaN                    NaN                 100002   \n",
            "19686                      NaN                    NaN                 100002   \n",
            "19687                      NaN                    NaN                 100002   \n",
            "19688                      NaN                    NaN                 100002   \n",
            "19689                      NaN                    NaN                 100002   \n",
            "19690                      NaN                    NaN                 100002   \n",
            "19691                      NaN                    NaN                 100002   \n",
            "19692             3.464067e+09                    NaN                 100002   \n",
            "19693                      NaN                    NaN                 100002   \n",
            "19694             3.466165e+09                    NaN                 100002   \n",
            "19695                      NaN                    NaN                 100002   \n",
            "19696             3.060451e+09                    NaN                 100001   \n",
            "19697             3.046811e+09                    NaN                 100001   \n",
            "19698             3.119267e+09                    NaN                 100003   \n",
            "19699             3.147502e+09                    NaN                 100003   \n",
            "19700             3.154037e+09                    NaN                 100003   \n",
            "19701             3.115975e+09                    NaN                 100003   \n",
            "19702                      NaN                    NaN                 100002   \n",
            "19703                      NaN                    NaN                 100002   \n",
            "19704                      NaN                    NaN                 100002   \n",
            "19705                      NaN                    NaN                 100002   \n",
            "\n",
            "                    UserPaymentMessage  \n",
            "0      Transaction-Failed-Insufficient  \n",
            "1      Transaction-Failed-Insufficient  \n",
            "2      Transaction-Failed-Insufficient  \n",
            "3               Transaction-Successful  \n",
            "4               Transaction-Successful  \n",
            "5      Transaction-Failed-Insufficient  \n",
            "6      Transaction-Failed-Insufficient  \n",
            "7      Transaction-Failed-Insufficient  \n",
            "8               Transaction-Successful  \n",
            "9      Transaction-Failed-Insufficient  \n",
            "10              Transaction-Successful  \n",
            "11     Transaction-Failed-Insufficient  \n",
            "12              Transaction-Successful  \n",
            "13     Transaction-Failed-Insufficient  \n",
            "14              Transaction-Successful  \n",
            "15              Transaction-Successful  \n",
            "16     Transaction-Failed-Insufficient  \n",
            "17              Transaction-Successful  \n",
            "18     Transaction-Failed-Insufficient  \n",
            "19              Transaction-Successful  \n",
            "20     Transaction-Failed-Insufficient  \n",
            "21              Transaction-Successful  \n",
            "22     Transaction-Failed-Insufficient  \n",
            "23     Transaction-Failed-Insufficient  \n",
            "24               Subscription-Disabled  \n",
            "25              Transaction-Successful  \n",
            "26     Transaction-Failed-Insufficient  \n",
            "27     Transaction-Failed-Insufficient  \n",
            "28     Transaction-Failed-Insufficient  \n",
            "29              Transaction-Successful  \n",
            "...                                ...  \n",
            "19676           Transaction-Successful  \n",
            "19677  Transaction-Failed-Insufficient  \n",
            "19678  Transaction-Failed-Insufficient  \n",
            "19679  Transaction-Failed-Insufficient  \n",
            "19680  Transaction-Failed-Insufficient  \n",
            "19681  Transaction-Failed-Insufficient  \n",
            "19682             Recursion-Successful  \n",
            "19683             Recursion-Successful  \n",
            "19684             Recursion-Successful  \n",
            "19685             Recursion-Successful  \n",
            "19686             Recursion-Successful  \n",
            "19687             Recursion-Successful  \n",
            "19688             Recursion-Successful  \n",
            "19689             Recursion-Successful  \n",
            "19690             Recursion-Successful  \n",
            "19691             Recursion-Successful  \n",
            "19692             Recursion-Successful  \n",
            "19693             Recursion-Successful  \n",
            "19694             Recursion-Successful  \n",
            "19695   Recursion-Successful-FreeTrial  \n",
            "19696             Recursion-Successful  \n",
            "19697             Recursion-Successful  \n",
            "19698                 Recursion-Failed  \n",
            "19699                 Recursion-Failed  \n",
            "19700                 Recursion-Failed  \n",
            "19701             Recursion-Successful  \n",
            "19702           Transaction-Successful  \n",
            "19703  Transaction-Failed-Insufficient  \n",
            "19704  Transaction-Failed-Insufficient  \n",
            "19705  Transaction-Failed-Insufficient  \n",
            "\n",
            "[19706 rows x 48 columns]\n"
          ],
          "name": "stdout"
        },
        {
          "output_type": "stream",
          "text": [
            "C:\\Users\\hp\\Anaconda3\\lib\\site-packages\\IPython\\core\\interactiveshell.py:2785: DtypeWarning: Columns (25) have mixed types. Specify dtype option on import or set low_memory=False.\n",
            "  interactivity=interactivity, compiler=compiler, result=result)\n"
          ],
          "name": "stderr"
        }
      ]
    },
    {
      "cell_type": "code",
      "metadata": {
        "id": "BXqa_bgwLZef",
        "colab_type": "code",
        "colab": {},
        "outputId": "c52d299b-be33-467a-f746-513f54e59937"
      },
      "source": [
        "print(users.dtypes)"
      ],
      "execution_count": 0,
      "outputs": [
        {
          "output_type": "stream",
          "text": [
            "UserId                            int64\n",
            "UserUsername                     object\n",
            "UserChatId                      float64\n",
            "UserPackageType                 float64\n",
            "UserPackageIsRecurring          float64\n",
            "UserEmail                       float64\n",
            "UserFacebookId                  float64\n",
            "UserDeviceId                    float64\n",
            "UserIsFree                        int64\n",
            "UserIsActive                      int64\n",
            "UserAddedDate                    object\n",
            "UserLastLoginAt                  object\n",
            "UserProfileUserId                 int64\n",
            "UserProfileFullName              object\n",
            "UserProfileFirstName            float64\n",
            "UserProfileLastName             float64\n",
            "UserProfileMobile               float64\n",
            "UserProfileCity                 float64\n",
            "UserProfileState                float64\n",
            "UserProfileCountry              float64\n",
            "UserProfileGender                object\n",
            "UserProfileDOB                   object\n",
            "UserProfileRegistrationDate      object\n",
            "UserProfileUnsubsciptionDate    float64\n",
            "UserProfilePlatform              object\n",
            "UserProfilePicture               object\n",
            "UserProfileMobileNetwork         object\n",
            "UserSubscriptionUserId            int64\n",
            "UserSubscriptionIsTempUser        int64\n",
            "UserSubscriptionPackageId         int64\n",
            "UserSubscriptionStartDate        object\n",
            "UserSubscriptionExpiryDate       object\n",
            "UserSubscriptionAddedDate        object\n",
            "UserPaymentId                    object\n",
            "UserPaymentVersion               object\n",
            "UserPaymentPlatform              object\n",
            "UserPaymentUserName               int64\n",
            "UserPaymentPackageType            int64\n",
            "UserPaymentTransactionId          int64\n",
            "UserPaymentStatus                 int64\n",
            "UserPaymentStartDate             object\n",
            "UserPaymentEndDate              float64\n",
            "UserPaymentIsRecurring            int64\n",
            "UserPaymentIP                    object\n",
            "UserPaymentMobileNumber         float64\n",
            "UserPaymentMerchantID           float64\n",
            "UserPaymentOperatorID             int64\n",
            "UserPaymentMessage               object\n",
            "dtype: object\n"
          ],
          "name": "stdout"
        }
      ]
    },
    {
      "cell_type": "code",
      "metadata": {
        "id": "8dNPuWk7LZei",
        "colab_type": "code",
        "colab": {},
        "outputId": "677b2cb3-3dca-40df-dd21-4f0c3230e910"
      },
      "source": [
        "print(users.info())"
      ],
      "execution_count": 0,
      "outputs": [
        {
          "output_type": "stream",
          "text": [
            "<class 'pandas.core.frame.DataFrame'>\n",
            "RangeIndex: 19706 entries, 0 to 19705\n",
            "Data columns (total 48 columns):\n",
            "UserId                          19706 non-null int64\n",
            "UserUsername                    19706 non-null object\n",
            "UserChatId                      0 non-null float64\n",
            "UserPackageType                 10508 non-null float64\n",
            "UserPackageIsRecurring          19577 non-null float64\n",
            "UserEmail                       0 non-null float64\n",
            "UserFacebookId                  0 non-null float64\n",
            "UserDeviceId                    0 non-null float64\n",
            "UserIsFree                      19706 non-null int64\n",
            "UserIsActive                    19706 non-null int64\n",
            "UserAddedDate                   19706 non-null object\n",
            "UserLastLoginAt                 19706 non-null object\n",
            "UserProfileUserId               19706 non-null int64\n",
            "UserProfileFullName             80 non-null object\n",
            "UserProfileFirstName            0 non-null float64\n",
            "UserProfileLastName             0 non-null float64\n",
            "UserProfileMobile               4588 non-null float64\n",
            "UserProfileCity                 0 non-null float64\n",
            "UserProfileState                0 non-null float64\n",
            "UserProfileCountry              0 non-null float64\n",
            "UserProfileGender               92 non-null object\n",
            "UserProfileDOB                  92 non-null object\n",
            "UserProfileRegistrationDate     19706 non-null object\n",
            "UserProfileUnsubsciptionDate    0 non-null float64\n",
            "UserProfilePlatform             19706 non-null object\n",
            "UserProfilePicture              1 non-null object\n",
            "UserProfileMobileNetwork        80 non-null object\n",
            "UserSubscriptionUserId          19706 non-null int64\n",
            "UserSubscriptionIsTempUser      19706 non-null int64\n",
            "UserSubscriptionPackageId       19706 non-null int64\n",
            "UserSubscriptionStartDate       19706 non-null object\n",
            "UserSubscriptionExpiryDate      19706 non-null object\n",
            "UserSubscriptionAddedDate       19706 non-null object\n",
            "UserPaymentId                   19706 non-null object\n",
            "UserPaymentVersion              19706 non-null object\n",
            "UserPaymentPlatform             19706 non-null object\n",
            "UserPaymentUserName             19706 non-null int64\n",
            "UserPaymentPackageType          19706 non-null int64\n",
            "UserPaymentTransactionId        19706 non-null int64\n",
            "UserPaymentStatus               19706 non-null int64\n",
            "UserPaymentStartDate            19706 non-null object\n",
            "UserPaymentEndDate              0 non-null float64\n",
            "UserPaymentIsRecurring          19706 non-null int64\n",
            "UserPaymentIP                   19706 non-null object\n",
            "UserPaymentMobileNumber         4584 non-null float64\n",
            "UserPaymentMerchantID           0 non-null float64\n",
            "UserPaymentOperatorID           19706 non-null int64\n",
            "UserPaymentMessage              19706 non-null object\n",
            "dtypes: float64(16), int64(13), object(19)\n",
            "memory usage: 7.2+ MB\n",
            "None\n"
          ],
          "name": "stdout"
        }
      ]
    },
    {
      "cell_type": "code",
      "metadata": {
        "id": "dOvwF89YLZel",
        "colab_type": "code",
        "colab": {}
      },
      "source": [
        "users['UserPackageType'] = users['UserPackageType'].replace(np.nan, 0)"
      ],
      "execution_count": 0,
      "outputs": []
    },
    {
      "cell_type": "markdown",
      "metadata": {
        "id": "1LtQ5-ccLZep",
        "colab_type": "text"
      },
      "source": [
        "# Descriptive Analysis"
      ]
    },
    {
      "cell_type": "code",
      "metadata": {
        "id": "fUIsz0gJLZeq",
        "colab_type": "code",
        "colab": {},
        "outputId": "fa1f8989-3701-461f-9e07-4fb71888c082"
      },
      "source": [
        "users.describe()"
      ],
      "execution_count": 0,
      "outputs": [
        {
          "output_type": "execute_result",
          "data": {
            "text/html": [
              "<div>\n",
              "<style scoped>\n",
              "    .dataframe tbody tr th:only-of-type {\n",
              "        vertical-align: middle;\n",
              "    }\n",
              "\n",
              "    .dataframe tbody tr th {\n",
              "        vertical-align: top;\n",
              "    }\n",
              "\n",
              "    .dataframe thead th {\n",
              "        text-align: right;\n",
              "    }\n",
              "</style>\n",
              "<table border=\"1\" class=\"dataframe\">\n",
              "  <thead>\n",
              "    <tr style=\"text-align: right;\">\n",
              "      <th></th>\n",
              "      <th>UserId</th>\n",
              "      <th>UserChatId</th>\n",
              "      <th>UserPackageType</th>\n",
              "      <th>UserPackageIsRecurring</th>\n",
              "      <th>UserEmail</th>\n",
              "      <th>UserFacebookId</th>\n",
              "      <th>UserDeviceId</th>\n",
              "      <th>UserIsFree</th>\n",
              "      <th>UserIsActive</th>\n",
              "      <th>UserProfileUserId</th>\n",
              "      <th>...</th>\n",
              "      <th>UserSubscriptionPackageId</th>\n",
              "      <th>UserPaymentUserName</th>\n",
              "      <th>UserPaymentPackageType</th>\n",
              "      <th>UserPaymentTransactionId</th>\n",
              "      <th>UserPaymentStatus</th>\n",
              "      <th>UserPaymentEndDate</th>\n",
              "      <th>UserPaymentIsRecurring</th>\n",
              "      <th>UserPaymentMobileNumber</th>\n",
              "      <th>UserPaymentMerchantID</th>\n",
              "      <th>UserPaymentOperatorID</th>\n",
              "    </tr>\n",
              "  </thead>\n",
              "  <tbody>\n",
              "    <tr>\n",
              "      <th>count</th>\n",
              "      <td>1.970600e+04</td>\n",
              "      <td>0.0</td>\n",
              "      <td>19706.000000</td>\n",
              "      <td>19577.000000</td>\n",
              "      <td>0.0</td>\n",
              "      <td>0.0</td>\n",
              "      <td>0.0</td>\n",
              "      <td>19706.000000</td>\n",
              "      <td>19706.000000</td>\n",
              "      <td>1.970600e+04</td>\n",
              "      <td>...</td>\n",
              "      <td>19706.0</td>\n",
              "      <td>1.970600e+04</td>\n",
              "      <td>19706.000000</td>\n",
              "      <td>1.970600e+04</td>\n",
              "      <td>19706.000000</td>\n",
              "      <td>0.0</td>\n",
              "      <td>19706.0</td>\n",
              "      <td>4.584000e+03</td>\n",
              "      <td>0.0</td>\n",
              "      <td>19706.000000</td>\n",
              "    </tr>\n",
              "    <tr>\n",
              "      <th>mean</th>\n",
              "      <td>2.181064e+06</td>\n",
              "      <td>NaN</td>\n",
              "      <td>535.504922</td>\n",
              "      <td>0.534249</td>\n",
              "      <td>NaN</td>\n",
              "      <td>NaN</td>\n",
              "      <td>NaN</td>\n",
              "      <td>0.460215</td>\n",
              "      <td>0.999899</td>\n",
              "      <td>2.181064e+06</td>\n",
              "      <td>...</td>\n",
              "      <td>10.0</td>\n",
              "      <td>2.181064e+06</td>\n",
              "      <td>1004.228661</td>\n",
              "      <td>1.835687e+06</td>\n",
              "      <td>0.379123</td>\n",
              "      <td>NaN</td>\n",
              "      <td>1.0</td>\n",
              "      <td>3.168630e+09</td>\n",
              "      <td>NaN</td>\n",
              "      <td>100002.096265</td>\n",
              "    </tr>\n",
              "    <tr>\n",
              "      <th>std</th>\n",
              "      <td>1.043483e+05</td>\n",
              "      <td>NaN</td>\n",
              "      <td>501.028861</td>\n",
              "      <td>0.498838</td>\n",
              "      <td>NaN</td>\n",
              "      <td>NaN</td>\n",
              "      <td>NaN</td>\n",
              "      <td>0.498427</td>\n",
              "      <td>0.010074</td>\n",
              "      <td>1.043483e+05</td>\n",
              "      <td>...</td>\n",
              "      <td>0.0</td>\n",
              "      <td>1.043483e+05</td>\n",
              "      <td>1.845321</td>\n",
              "      <td>1.080008e+06</td>\n",
              "      <td>0.485181</td>\n",
              "      <td>NaN</td>\n",
              "      <td>0.0</td>\n",
              "      <td>1.346109e+08</td>\n",
              "      <td>NaN</td>\n",
              "      <td>0.434866</td>\n",
              "    </tr>\n",
              "    <tr>\n",
              "      <th>min</th>\n",
              "      <td>2.024583e+06</td>\n",
              "      <td>NaN</td>\n",
              "      <td>0.000000</td>\n",
              "      <td>0.000000</td>\n",
              "      <td>NaN</td>\n",
              "      <td>NaN</td>\n",
              "      <td>NaN</td>\n",
              "      <td>0.000000</td>\n",
              "      <td>0.000000</td>\n",
              "      <td>2.024583e+06</td>\n",
              "      <td>...</td>\n",
              "      <td>10.0</td>\n",
              "      <td>2.024583e+06</td>\n",
              "      <td>1003.000000</td>\n",
              "      <td>0.000000e+00</td>\n",
              "      <td>0.000000</td>\n",
              "      <td>NaN</td>\n",
              "      <td>1.0</td>\n",
              "      <td>3.000076e+09</td>\n",
              "      <td>NaN</td>\n",
              "      <td>100001.000000</td>\n",
              "    </tr>\n",
              "    <tr>\n",
              "      <th>25%</th>\n",
              "      <td>2.072687e+06</td>\n",
              "      <td>NaN</td>\n",
              "      <td>0.000000</td>\n",
              "      <td>0.000000</td>\n",
              "      <td>NaN</td>\n",
              "      <td>NaN</td>\n",
              "      <td>NaN</td>\n",
              "      <td>0.000000</td>\n",
              "      <td>1.000000</td>\n",
              "      <td>2.072687e+06</td>\n",
              "      <td>...</td>\n",
              "      <td>10.0</td>\n",
              "      <td>2.072687e+06</td>\n",
              "      <td>1003.000000</td>\n",
              "      <td>9.436365e+05</td>\n",
              "      <td>0.000000</td>\n",
              "      <td>NaN</td>\n",
              "      <td>1.0</td>\n",
              "      <td>3.102019e+09</td>\n",
              "      <td>NaN</td>\n",
              "      <td>100002.000000</td>\n",
              "    </tr>\n",
              "    <tr>\n",
              "      <th>50%</th>\n",
              "      <td>2.212046e+06</td>\n",
              "      <td>NaN</td>\n",
              "      <td>1003.000000</td>\n",
              "      <td>1.000000</td>\n",
              "      <td>NaN</td>\n",
              "      <td>NaN</td>\n",
              "      <td>NaN</td>\n",
              "      <td>0.000000</td>\n",
              "      <td>1.000000</td>\n",
              "      <td>2.212046e+06</td>\n",
              "      <td>...</td>\n",
              "      <td>10.0</td>\n",
              "      <td>2.212046e+06</td>\n",
              "      <td>1003.000000</td>\n",
              "      <td>2.632174e+06</td>\n",
              "      <td>0.000000</td>\n",
              "      <td>NaN</td>\n",
              "      <td>1.0</td>\n",
              "      <td>3.133313e+09</td>\n",
              "      <td>NaN</td>\n",
              "      <td>100002.000000</td>\n",
              "    </tr>\n",
              "    <tr>\n",
              "      <th>75%</th>\n",
              "      <td>2.285620e+06</td>\n",
              "      <td>NaN</td>\n",
              "      <td>1003.000000</td>\n",
              "      <td>1.000000</td>\n",
              "      <td>NaN</td>\n",
              "      <td>NaN</td>\n",
              "      <td>NaN</td>\n",
              "      <td>1.000000</td>\n",
              "      <td>1.000000</td>\n",
              "      <td>2.285620e+06</td>\n",
              "      <td>...</td>\n",
              "      <td>10.0</td>\n",
              "      <td>2.285620e+06</td>\n",
              "      <td>1007.000000</td>\n",
              "      <td>2.642371e+06</td>\n",
              "      <td>1.000000</td>\n",
              "      <td>NaN</td>\n",
              "      <td>1.0</td>\n",
              "      <td>3.170865e+09</td>\n",
              "      <td>NaN</td>\n",
              "      <td>100002.000000</td>\n",
              "    </tr>\n",
              "    <tr>\n",
              "      <th>max</th>\n",
              "      <td>2.325766e+06</td>\n",
              "      <td>NaN</td>\n",
              "      <td>1007.000000</td>\n",
              "      <td>1.000000</td>\n",
              "      <td>NaN</td>\n",
              "      <td>NaN</td>\n",
              "      <td>NaN</td>\n",
              "      <td>1.000000</td>\n",
              "      <td>1.000000</td>\n",
              "      <td>2.325766e+06</td>\n",
              "      <td>...</td>\n",
              "      <td>10.0</td>\n",
              "      <td>2.325766e+06</td>\n",
              "      <td>1007.000000</td>\n",
              "      <td>2.652853e+06</td>\n",
              "      <td>1.000000</td>\n",
              "      <td>NaN</td>\n",
              "      <td>1.0</td>\n",
              "      <td>3.499311e+09</td>\n",
              "      <td>NaN</td>\n",
              "      <td>100003.000000</td>\n",
              "    </tr>\n",
              "  </tbody>\n",
              "</table>\n",
              "<p>8 rows × 29 columns</p>\n",
              "</div>"
            ],
            "text/plain": [
              "             UserId  UserChatId  UserPackageType  UserPackageIsRecurring  \\\n",
              "count  1.970600e+04         0.0     19706.000000            19577.000000   \n",
              "mean   2.181064e+06         NaN       535.504922                0.534249   \n",
              "std    1.043483e+05         NaN       501.028861                0.498838   \n",
              "min    2.024583e+06         NaN         0.000000                0.000000   \n",
              "25%    2.072687e+06         NaN         0.000000                0.000000   \n",
              "50%    2.212046e+06         NaN      1003.000000                1.000000   \n",
              "75%    2.285620e+06         NaN      1003.000000                1.000000   \n",
              "max    2.325766e+06         NaN      1007.000000                1.000000   \n",
              "\n",
              "       UserEmail  UserFacebookId  UserDeviceId    UserIsFree  UserIsActive  \\\n",
              "count        0.0             0.0           0.0  19706.000000  19706.000000   \n",
              "mean         NaN             NaN           NaN      0.460215      0.999899   \n",
              "std          NaN             NaN           NaN      0.498427      0.010074   \n",
              "min          NaN             NaN           NaN      0.000000      0.000000   \n",
              "25%          NaN             NaN           NaN      0.000000      1.000000   \n",
              "50%          NaN             NaN           NaN      0.000000      1.000000   \n",
              "75%          NaN             NaN           NaN      1.000000      1.000000   \n",
              "max          NaN             NaN           NaN      1.000000      1.000000   \n",
              "\n",
              "       UserProfileUserId          ...            UserSubscriptionPackageId  \\\n",
              "count       1.970600e+04          ...                              19706.0   \n",
              "mean        2.181064e+06          ...                                 10.0   \n",
              "std         1.043483e+05          ...                                  0.0   \n",
              "min         2.024583e+06          ...                                 10.0   \n",
              "25%         2.072687e+06          ...                                 10.0   \n",
              "50%         2.212046e+06          ...                                 10.0   \n",
              "75%         2.285620e+06          ...                                 10.0   \n",
              "max         2.325766e+06          ...                                 10.0   \n",
              "\n",
              "       UserPaymentUserName  UserPaymentPackageType  UserPaymentTransactionId  \\\n",
              "count         1.970600e+04            19706.000000              1.970600e+04   \n",
              "mean          2.181064e+06             1004.228661              1.835687e+06   \n",
              "std           1.043483e+05                1.845321              1.080008e+06   \n",
              "min           2.024583e+06             1003.000000              0.000000e+00   \n",
              "25%           2.072687e+06             1003.000000              9.436365e+05   \n",
              "50%           2.212046e+06             1003.000000              2.632174e+06   \n",
              "75%           2.285620e+06             1007.000000              2.642371e+06   \n",
              "max           2.325766e+06             1007.000000              2.652853e+06   \n",
              "\n",
              "       UserPaymentStatus  UserPaymentEndDate  UserPaymentIsRecurring  \\\n",
              "count       19706.000000                 0.0                 19706.0   \n",
              "mean            0.379123                 NaN                     1.0   \n",
              "std             0.485181                 NaN                     0.0   \n",
              "min             0.000000                 NaN                     1.0   \n",
              "25%             0.000000                 NaN                     1.0   \n",
              "50%             0.000000                 NaN                     1.0   \n",
              "75%             1.000000                 NaN                     1.0   \n",
              "max             1.000000                 NaN                     1.0   \n",
              "\n",
              "       UserPaymentMobileNumber  UserPaymentMerchantID  UserPaymentOperatorID  \n",
              "count             4.584000e+03                    0.0           19706.000000  \n",
              "mean              3.168630e+09                    NaN          100002.096265  \n",
              "std               1.346109e+08                    NaN               0.434866  \n",
              "min               3.000076e+09                    NaN          100001.000000  \n",
              "25%               3.102019e+09                    NaN          100002.000000  \n",
              "50%               3.133313e+09                    NaN          100002.000000  \n",
              "75%               3.170865e+09                    NaN          100002.000000  \n",
              "max               3.499311e+09                    NaN          100003.000000  \n",
              "\n",
              "[8 rows x 29 columns]"
            ]
          },
          "metadata": {
            "tags": []
          },
          "execution_count": 7
        }
      ]
    },
    {
      "cell_type": "code",
      "metadata": {
        "id": "fH1FkGJLLZeu",
        "colab_type": "code",
        "colab": {},
        "outputId": "34cbd930-b453-4afd-a9ba-4d7619210336"
      },
      "source": [
        "users.describe(include=['O'])"
      ],
      "execution_count": 0,
      "outputs": [
        {
          "output_type": "execute_result",
          "data": {
            "text/html": [
              "<div>\n",
              "<style scoped>\n",
              "    .dataframe tbody tr th:only-of-type {\n",
              "        vertical-align: middle;\n",
              "    }\n",
              "\n",
              "    .dataframe tbody tr th {\n",
              "        vertical-align: top;\n",
              "    }\n",
              "\n",
              "    .dataframe thead th {\n",
              "        text-align: right;\n",
              "    }\n",
              "</style>\n",
              "<table border=\"1\" class=\"dataframe\">\n",
              "  <thead>\n",
              "    <tr style=\"text-align: right;\">\n",
              "      <th></th>\n",
              "      <th>UserUsername</th>\n",
              "      <th>UserAddedDate</th>\n",
              "      <th>UserLastLoginAt</th>\n",
              "      <th>UserProfileFullName</th>\n",
              "      <th>UserProfileGender</th>\n",
              "      <th>UserProfileDOB</th>\n",
              "      <th>UserProfileRegistrationDate</th>\n",
              "      <th>UserProfilePlatform</th>\n",
              "      <th>UserProfilePicture</th>\n",
              "      <th>UserProfileMobileNetwork</th>\n",
              "      <th>UserSubscriptionStartDate</th>\n",
              "      <th>UserSubscriptionExpiryDate</th>\n",
              "      <th>UserSubscriptionAddedDate</th>\n",
              "      <th>UserPaymentId</th>\n",
              "      <th>UserPaymentVersion</th>\n",
              "      <th>UserPaymentPlatform</th>\n",
              "      <th>UserPaymentStartDate</th>\n",
              "      <th>UserPaymentIP</th>\n",
              "      <th>UserPaymentMessage</th>\n",
              "    </tr>\n",
              "  </thead>\n",
              "  <tbody>\n",
              "    <tr>\n",
              "      <th>count</th>\n",
              "      <td>19706</td>\n",
              "      <td>19706</td>\n",
              "      <td>19706</td>\n",
              "      <td>80</td>\n",
              "      <td>92</td>\n",
              "      <td>92</td>\n",
              "      <td>19706</td>\n",
              "      <td>19706</td>\n",
              "      <td>1</td>\n",
              "      <td>80</td>\n",
              "      <td>19706</td>\n",
              "      <td>19706</td>\n",
              "      <td>19706</td>\n",
              "      <td>19706</td>\n",
              "      <td>19706</td>\n",
              "      <td>19706</td>\n",
              "      <td>19706</td>\n",
              "      <td>19706</td>\n",
              "      <td>19706</td>\n",
              "    </tr>\n",
              "    <tr>\n",
              "      <th>unique</th>\n",
              "      <td>12061</td>\n",
              "      <td>11988</td>\n",
              "      <td>11959</td>\n",
              "      <td>37</td>\n",
              "      <td>4</td>\n",
              "      <td>37</td>\n",
              "      <td>11979</td>\n",
              "      <td>2</td>\n",
              "      <td>1</td>\n",
              "      <td>1</td>\n",
              "      <td>11979</td>\n",
              "      <td>12004</td>\n",
              "      <td>11988</td>\n",
              "      <td>11955</td>\n",
              "      <td>1</td>\n",
              "      <td>1</td>\n",
              "      <td>19526</td>\n",
              "      <td>2</td>\n",
              "      <td>7</td>\n",
              "    </tr>\n",
              "    <tr>\n",
              "      <th>top</th>\n",
              "      <td>T3151600339</td>\n",
              "      <td>2018-07-02 08:01:55</td>\n",
              "      <td>2018-07-02 10:15:34</td>\n",
              "      <td>Anonymous</td>\n",
              "      <td>Male</td>\n",
              "      <td>1984-06-25</td>\n",
              "      <td>2018-07-02 00:18:24</td>\n",
              "      <td>web</td>\n",
              "      <td>http://api.tapmad.com/pics/profilepics/img-201...</td>\n",
              "      <td>Mobilink</td>\n",
              "      <td>2018-07-02 00:18:24</td>\n",
              "      <td>2018-08-16 18:10:13</td>\n",
              "      <td>2018-07-16 18:45:30</td>\n",
              "      <td>2018-07-29 18:10:13</td>\n",
              "      <td>V1</td>\n",
              "      <td>dcb</td>\n",
              "      <td>2018-07-26 18:37:09</td>\n",
              "      <td>111.119.160.222</td>\n",
              "      <td>Transaction-Failed-Insufficient</td>\n",
              "    </tr>\n",
              "    <tr>\n",
              "      <th>freq</th>\n",
              "      <td>6</td>\n",
              "      <td>6</td>\n",
              "      <td>6</td>\n",
              "      <td>15</td>\n",
              "      <td>72</td>\n",
              "      <td>30</td>\n",
              "      <td>7</td>\n",
              "      <td>14443</td>\n",
              "      <td>1</td>\n",
              "      <td>80</td>\n",
              "      <td>7</td>\n",
              "      <td>6</td>\n",
              "      <td>6</td>\n",
              "      <td>6</td>\n",
              "      <td>19706</td>\n",
              "      <td>19706</td>\n",
              "      <td>3</td>\n",
              "      <td>12647</td>\n",
              "      <td>6529</td>\n",
              "    </tr>\n",
              "  </tbody>\n",
              "</table>\n",
              "</div>"
            ],
            "text/plain": [
              "       UserUsername        UserAddedDate      UserLastLoginAt  \\\n",
              "count         19706                19706                19706   \n",
              "unique        12061                11988                11959   \n",
              "top     T3151600339  2018-07-02 08:01:55  2018-07-02 10:15:34   \n",
              "freq              6                    6                    6   \n",
              "\n",
              "       UserProfileFullName UserProfileGender UserProfileDOB  \\\n",
              "count                   80                92             92   \n",
              "unique                  37                 4             37   \n",
              "top              Anonymous              Male     1984-06-25   \n",
              "freq                    15                72             30   \n",
              "\n",
              "       UserProfileRegistrationDate UserProfilePlatform  \\\n",
              "count                        19706               19706   \n",
              "unique                       11979                   2   \n",
              "top            2018-07-02 00:18:24                 web   \n",
              "freq                             7               14443   \n",
              "\n",
              "                                       UserProfilePicture  \\\n",
              "count                                                   1   \n",
              "unique                                                  1   \n",
              "top     http://api.tapmad.com/pics/profilepics/img-201...   \n",
              "freq                                                    1   \n",
              "\n",
              "       UserProfileMobileNetwork UserSubscriptionStartDate  \\\n",
              "count                        80                     19706   \n",
              "unique                        1                     11979   \n",
              "top                    Mobilink       2018-07-02 00:18:24   \n",
              "freq                         80                         7   \n",
              "\n",
              "       UserSubscriptionExpiryDate UserSubscriptionAddedDate  \\\n",
              "count                       19706                     19706   \n",
              "unique                      12004                     11988   \n",
              "top           2018-08-16 18:10:13       2018-07-16 18:45:30   \n",
              "freq                            6                         6   \n",
              "\n",
              "              UserPaymentId UserPaymentVersion UserPaymentPlatform  \\\n",
              "count                 19706              19706               19706   \n",
              "unique                11955                  1                   1   \n",
              "top     2018-07-29 18:10:13                 V1                 dcb   \n",
              "freq                      6              19706               19706   \n",
              "\n",
              "       UserPaymentStartDate    UserPaymentIP               UserPaymentMessage  \n",
              "count                 19706            19706                            19706  \n",
              "unique                19526                2                                7  \n",
              "top     2018-07-26 18:37:09  111.119.160.222  Transaction-Failed-Insufficient  \n",
              "freq                      3            12647                             6529  "
            ]
          },
          "metadata": {
            "tags": []
          },
          "execution_count": 8
        }
      ]
    },
    {
      "cell_type": "code",
      "metadata": {
        "id": "_6ZY_Y-JLZex",
        "colab_type": "code",
        "colab": {},
        "outputId": "9cfc7f2d-f8c9-4c84-a1ec-e27ccc1c9c61"
      },
      "source": [
        "y = users[\"UserIsFree\"].value_counts()\n",
        "#print (y)\n",
        "sns.barplot(y.index, y.values)"
      ],
      "execution_count": 0,
      "outputs": [
        {
          "output_type": "execute_result",
          "data": {
            "text/plain": [
              "<matplotlib.axes._subplots.AxesSubplot at 0x2574ee36780>"
            ]
          },
          "metadata": {
            "tags": []
          },
          "execution_count": 9
        },
        {
          "output_type": "display_data",
          "data": {
            "image/png": "[encoded data removed]",
            "text/plain": [
              "<Figure size 432x288 with 1 Axes>"
            ]
          },
          "metadata": {
            "tags": []
          }
        }
      ]
    },
    {
      "cell_type": "code",
      "metadata": {
        "id": "PX2yN7zZLZe0",
        "colab_type": "code",
        "colab": {},
        "outputId": "e4b49f47-04a9-4f4e-9ef7-0b401201fca0"
      },
      "source": [
        "print(users.groupby('UserIsFree')['UserIsFree'].count()) \n"
      ],
      "execution_count": 0,
      "outputs": [
        {
          "output_type": "stream",
          "text": [
            "UserIsFree\n",
            "0    10637\n",
            "1     9069\n",
            "Name: UserIsFree, dtype: int64\n"
          ],
          "name": "stdout"
        }
      ]
    },
    {
      "cell_type": "code",
      "metadata": {
        "id": "9ste5GGELZe7",
        "colab_type": "code",
        "colab": {},
        "outputId": "b3a3cd07-42cf-42d3-e300-2a2c25ff9528"
      },
      "source": [
        "y_True = users[\"UserIsFree\"][users[\"UserIsFree\"] == True]\n",
        "print (\"UserIsFree Percentage = \"+str( (y_True.shape[0] / users[\"UserIsFree\"].shape[0]) * 100 ))"
      ],
      "execution_count": 0,
      "outputs": [
        {
          "output_type": "stream",
          "text": [
            "UserIsFree Percentage = 46.021516289454986\n"
          ],
          "name": "stdout"
        }
      ]
    },
    {
      "cell_type": "code",
      "metadata": {
        "id": "yvXvaKMaLZe-",
        "colab_type": "code",
        "colab": {},
        "outputId": "56a7d3ff-eab2-4f6a-8bf6-25d2afa7aa1c"
      },
      "source": [
        "users.groupby([\"UserPackageType\", \"UserIsFree\"]).size().unstack().plot(kind='bar', stacked=True, figsize=(5,5)) "
      ],
      "execution_count": 0,
      "outputs": [
        {
          "output_type": "execute_result",
          "data": {
            "text/plain": [
              "<matplotlib.axes._subplots.AxesSubplot at 0x2574f18a358>"
            ]
          },
          "metadata": {
            "tags": []
          },
          "execution_count": 12
        },
        {
          "output_type": "display_data",
          "data": {
            "image/png": "[encoded data removed]",
            "text/plain": [
              "<Figure size 360x360 with 1 Axes>"
            ]
          },
          "metadata": {
            "tags": []
          }
        }
      ]
    },
    {
      "cell_type": "code",
      "metadata": {
        "id": "AJ004qjoLZfB",
        "colab_type": "code",
        "colab": {},
        "outputId": "cb2a8937-9a16-408e-8d05-1ed37f9e3c71"
      },
      "source": [
        "users.groupby([\"UserPackageType\", \"UserPackageIsRecurring\"]).size().unstack().plot(kind='bar', stacked=True, figsize=(5,5))"
      ],
      "execution_count": 0,
      "outputs": [
        {
          "output_type": "execute_result",
          "data": {
            "text/plain": [
              "<matplotlib.axes._subplots.AxesSubplot at 0x2574f210710>"
            ]
          },
          "metadata": {
            "tags": []
          },
          "execution_count": 13
        },
        {
          "output_type": "display_data",
          "data": {
            "image/png": "[encoded data removed]",
            "text/plain": [
              "<Figure size 360x360 with 1 Axes>"
            ]
          },
          "metadata": {
            "tags": []
          }
        }
      ]
    },
    {
      "cell_type": "code",
      "metadata": {
        "id": "6dHONBcZLZfE",
        "colab_type": "code",
        "colab": {},
        "outputId": "f1861d34-5091-4865-c542-dca7151298e0"
      },
      "source": [
        "y_1 = users[\"UserProfilePlatform\"].value_counts()\n",
        "#print (y)\n",
        "sns.barplot(y_1.index, y_1.values)"
      ],
      "execution_count": 0,
      "outputs": [
        {
          "output_type": "execute_result",
          "data": {
            "text/plain": [
              "<matplotlib.axes._subplots.AxesSubplot at 0x2574f26bb00>"
            ]
          },
          "metadata": {
            "tags": []
          },
          "execution_count": 14
        },
        {
          "output_type": "display_data",
          "data": {
            "image/png": "[encoded data removed]",
            "text/plain": [
              "<Figure size 432x288 with 1 Axes>"
            ]
          },
          "metadata": {
            "tags": []
          }
        }
      ]
    },
    {
      "cell_type": "code",
      "metadata": {
        "id": "CD6-JldCLZfG",
        "colab_type": "code",
        "colab": {},
        "outputId": "9ccc1b19-4230-4ddd-a170-4aee68dccac7"
      },
      "source": [
        "print(users.groupby('UserProfilePlatform')['UserProfilePlatform'].count())"
      ],
      "execution_count": 0,
      "outputs": [
        {
          "output_type": "stream",
          "text": [
            "UserProfilePlatform\n",
            "android     5263\n",
            "web        14443\n",
            "Name: UserProfilePlatform, dtype: int64\n"
          ],
          "name": "stdout"
        }
      ]
    },
    {
      "cell_type": "markdown",
      "metadata": {
        "id": "EX5FAt6iLZfJ",
        "colab_type": "text"
      },
      "source": [
        "# Data Cleaning\n",
        "# Handle Categorical Cols - Label Encode"
      ]
    },
    {
      "cell_type": "code",
      "metadata": {
        "id": "Z9VITlfZLZfK",
        "colab_type": "code",
        "colab": {},
        "outputId": "355283c9-adb8-43b4-c662-01945f79ff9d"
      },
      "source": [
        "from numpy import array\n",
        "from numpy import argmax\n",
        "from sklearn.preprocessing import LabelEncoder\n",
        "from sklearn.preprocessing import OneHotEncoder\n",
        "# define example\n",
        "users['data'] = users['UserProfilePlatform']\n",
        "values = array(users['data'])\n",
        "print(values)\n",
        "# integer encode\n",
        "label_encoder = LabelEncoder()\n",
        "integer_encoded = label_encoder.fit_transform(values)\n",
        "print(integer_encoded)\n",
        "# binary encode\n",
        "onehot_encoder = OneHotEncoder(sparse=False)\n",
        "integer_encoded = integer_encoded.reshape(len(integer_encoded), 1)\n",
        "onehot_encoded = onehot_encoder.fit_transform(integer_encoded)\n",
        "print(onehot_encoded)\n",
        "# invert first example\n",
        "inverted = label_encoder.inverse_transform([argmax(onehot_encoded[0, :])])\n",
        "print(inverted)"
      ],
      "execution_count": 0,
      "outputs": [
        {
          "output_type": "stream",
          "text": [
            "['web' 'web' 'web' ... 'web' 'web' 'web']\n",
            "[1 1 1 ... 1 1 1]\n",
            "[[0. 1.]\n",
            " [0. 1.]\n",
            " [0. 1.]\n",
            " ...\n",
            " [0. 1.]\n",
            " [0. 1.]\n",
            " [0. 1.]]\n",
            "['web']\n"
          ],
          "name": "stdout"
        },
        {
          "output_type": "stream",
          "text": [
            "C:\\Users\\hp\\Anaconda3\\lib\\site-packages\\sklearn\\preprocessing\\label.py:151: DeprecationWarning: The truth value of an empty array is ambiguous. Returning False, but in future this will result in an error. Use `array.size > 0` to check that an array is not empty.\n",
            "  if diff:\n"
          ],
          "name": "stderr"
        }
      ]
    },
    {
      "cell_type": "code",
      "metadata": {
        "id": "RdBCGh2aLZfM",
        "colab_type": "code",
        "colab": {},
        "outputId": "234a50b2-d292-4393-ddb7-49c7eb97965d"
      },
      "source": [
        "users.groupby([\"UserPaymentPackageType\", \"UserPaymentStatus\"]).size().unstack().plot(kind='bar', stacked=True, figsize=(5,5))"
      ],
      "execution_count": 0,
      "outputs": [
        {
          "output_type": "execute_result",
          "data": {
            "text/plain": [
              "<matplotlib.axes._subplots.AxesSubplot at 0x2574f2ce8d0>"
            ]
          },
          "metadata": {
            "tags": []
          },
          "execution_count": 17
        },
        {
          "output_type": "display_data",
          "data": {
            "image/png": "[encoded data removed]",
            "text/plain": [
              "<Figure size 360x360 with 1 Axes>"
            ]
          },
          "metadata": {
            "tags": []
          }
        }
      ]
    },
    {
      "cell_type": "code",
      "metadata": {
        "id": "B9cX-cSfLZfP",
        "colab_type": "code",
        "colab": {},
        "outputId": "b2777b89-eb54-4d39-b055-394e69d68f10"
      },
      "source": [
        "from numpy import array\n",
        "from numpy import argmax\n",
        "from sklearn.preprocessing import LabelEncoder\n",
        "from sklearn.preprocessing import OneHotEncoder\n",
        "# define ex\n",
        "users[\"data\"] = users[\"UserPaymentPackageType\"]\n",
        "values = array(users[\"data\"])\n",
        "print(values)\n",
        "# integer encode\n",
        "label_encoder = LabelEncoder()\n",
        "integer_encoded = label_encoder.fit_transform(values)\n",
        "users[\"UserPaymentPackageTypeEncoded\"] = integer_encoded\n",
        "users.drop(\"UserPaymentPackageType\", inplace=True)\n",
        "print(integer_encoded) \n",
        "# binary encode\n",
        "onehot_encoder = OneHotEncoder(sparse=False)\n",
        "integer_encoded = integer_encoded.reshape(len(integer_encoded), 1)\n",
        "onehot_encoded = onehot_encoder.fit_transform(integer_encoded)\n",
        "users_onehot = pd.concat([users,onehot_encoded], axis=1)\n",
        "users.drop(\"UserPaymentPackageType\", inplace=True)\n",
        "print(onehot_encoded)\n",
        "# invert first example\n",
        "inverted = label_encoder.inverse_transform([argmax(onehot_encoded[0, :])])\n",
        "print(inverted)"
      ],
      "execution_count": 0,
      "outputs": [
        {
          "output_type": "stream",
          "text": [
            "[1003 1003 1003 ... 1007 1007 1003]\n",
            "[0 0 0 ... 1 1 0]\n",
            "[[1. 0.]\n",
            " [1. 0.]\n",
            " [1. 0.]\n",
            " ...\n",
            " [0. 1.]\n",
            " [0. 1.]\n",
            " [1. 0.]]\n",
            "[1003]\n"
          ],
          "name": "stdout"
        },
        {
          "output_type": "stream",
          "text": [
            "C:\\Users\\hp\\Anaconda3\\lib\\site-packages\\sklearn\\preprocessing\\label.py:151: DeprecationWarning: The truth value of an empty array is ambiguous. Returning False, but in future this will result in an error. Use `array.size > 0` to check that an array is not empty.\n",
            "  if diff:\n"
          ],
          "name": "stderr"
        }
      ]
    },
    {
      "cell_type": "markdown",
      "metadata": {
        "id": "Ldqk2pYGLZfR",
        "colab_type": "text"
      },
      "source": [
        "# Categorical features"
      ]
    },
    {
      "cell_type": "code",
      "metadata": {
        "id": "LwkP5oKqLZfS",
        "colab_type": "code",
        "colab": {},
        "outputId": "4d4f2e44-4593-4ab7-87a3-907795a74587"
      },
      "source": [
        "pd.crosstab(users['UserPaymentMessage'], users['UserPaymentStatus'])"
      ],
      "execution_count": 0,
      "outputs": [
        {
          "output_type": "execute_result",
          "data": {
            "text/html": [
              "<div>\n",
              "<style scoped>\n",
              "    .dataframe tbody tr th:only-of-type {\n",
              "        vertical-align: middle;\n",
              "    }\n",
              "\n",
              "    .dataframe tbody tr th {\n",
              "        vertical-align: top;\n",
              "    }\n",
              "\n",
              "    .dataframe thead th {\n",
              "        text-align: right;\n",
              "    }\n",
              "</style>\n",
              "<table border=\"1\" class=\"dataframe\">\n",
              "  <thead>\n",
              "    <tr style=\"text-align: right;\">\n",
              "      <th>UserPaymentStatus</th>\n",
              "      <th>0</th>\n",
              "      <th>1</th>\n",
              "    </tr>\n",
              "    <tr>\n",
              "      <th>UserPaymentMessage</th>\n",
              "      <th></th>\n",
              "      <th></th>\n",
              "    </tr>\n",
              "  </thead>\n",
              "  <tbody>\n",
              "    <tr>\n",
              "      <th>Recursion-Failed</th>\n",
              "      <td>3266</td>\n",
              "      <td>0</td>\n",
              "    </tr>\n",
              "    <tr>\n",
              "      <th>Recursion-Successful</th>\n",
              "      <td>0</td>\n",
              "      <td>2315</td>\n",
              "    </tr>\n",
              "    <tr>\n",
              "      <th>Recursion-Successful-FreeTrial</th>\n",
              "      <td>0</td>\n",
              "      <td>1478</td>\n",
              "    </tr>\n",
              "    <tr>\n",
              "      <th>Subscription-Disabled</th>\n",
              "      <td>318</td>\n",
              "      <td>0</td>\n",
              "    </tr>\n",
              "    <tr>\n",
              "      <th>Transaction-Failed</th>\n",
              "      <td>2122</td>\n",
              "      <td>0</td>\n",
              "    </tr>\n",
              "    <tr>\n",
              "      <th>Transaction-Failed-Insufficient</th>\n",
              "      <td>6529</td>\n",
              "      <td>0</td>\n",
              "    </tr>\n",
              "    <tr>\n",
              "      <th>Transaction-Successful</th>\n",
              "      <td>0</td>\n",
              "      <td>3678</td>\n",
              "    </tr>\n",
              "  </tbody>\n",
              "</table>\n",
              "</div>"
            ],
            "text/plain": [
              "UserPaymentStatus                   0     1\n",
              "UserPaymentMessage                         \n",
              "Recursion-Failed                 3266     0\n",
              "Recursion-Successful                0  2315\n",
              "Recursion-Successful-FreeTrial      0  1478\n",
              "Subscription-Disabled             318     0\n",
              "Transaction-Failed               2122     0\n",
              "Transaction-Failed-Insufficient  6529     0\n",
              "Transaction-Successful              0  3678"
            ]
          },
          "metadata": {
            "tags": []
          },
          "execution_count": 19
        }
      ]
    },
    {
      "cell_type": "code",
      "metadata": {
        "id": "NvLxA1aYLZfV",
        "colab_type": "code",
        "colab": {},
        "outputId": "6361c1ea-d57d-448d-b2aa-8da7b043bbf1"
      },
      "source": [
        "from numpy import array\n",
        "from numpy import argmax\n",
        "from sklearn.preprocessing import LabelEncoder\n",
        "from sklearn.preprocessing import OneHotEncoder\n",
        "# define example\n",
        "users[\"data\"] = users[\"UserPaymentMessage\"]\n",
        "values = array(users[\"data\"])\n",
        "print(values)\n",
        "# integer encode\n",
        "label_encoder = LabelEncoder()\n",
        "integer_encoded = label_encoder.fit_transform(values)\n",
        "print(integer_encoded)\n",
        "# binary encode\n",
        "onehot_encoder = OneHotEncoder(sparse=False)\n",
        "integer_encoded = integer_encoded.reshape(len(integer_encoded), 1)\n",
        "onehot_encoded = onehot_encoder.fit_transform(integer_encoded)\n",
        "print(onehot_encoded)\n",
        "# invert first example\n",
        "inverted = label_encoder.inverse_transform([argmax(onehot_encoded[0, :])])\n",
        "print(inverted)"
      ],
      "execution_count": 0,
      "outputs": [
        {
          "output_type": "stream",
          "text": [
            "['Transaction-Failed-Insufficient' 'Transaction-Failed-Insufficient'\n",
            " 'Transaction-Failed-Insufficient' ... 'Transaction-Failed-Insufficient'\n",
            " 'Transaction-Failed-Insufficient' 'Transaction-Failed-Insufficient']\n",
            "[5 5 5 ... 5 5 5]\n",
            "[[0. 0. 0. ... 0. 1. 0.]\n",
            " [0. 0. 0. ... 0. 1. 0.]\n",
            " [0. 0. 0. ... 0. 1. 0.]\n",
            " ...\n",
            " [0. 0. 0. ... 0. 1. 0.]\n",
            " [0. 0. 0. ... 0. 1. 0.]\n",
            " [0. 0. 0. ... 0. 1. 0.]]\n",
            "['Transaction-Failed-Insufficient']\n"
          ],
          "name": "stdout"
        },
        {
          "output_type": "stream",
          "text": [
            "C:\\Users\\hp\\Anaconda3\\lib\\site-packages\\sklearn\\preprocessing\\label.py:151: DeprecationWarning: The truth value of an empty array is ambiguous. Returning False, but in future this will result in an error. Use `array.size > 0` to check that an array is not empty.\n",
            "  if diff:\n"
          ],
          "name": "stderr"
        }
      ]
    },
    {
      "cell_type": "code",
      "metadata": {
        "id": "7pfLI0hqLZfZ",
        "colab_type": "code",
        "colab": {},
        "outputId": "ddee888e-b71d-4ef0-adf1-ada556ab115c"
      },
      "source": [
        "users.groupby([\"UserPaymentOperatorID\", \"UserPaymentStatus\"]).size().unstack().plot(kind='bar', stacked=True, figsize=(5,5)) "
      ],
      "execution_count": 0,
      "outputs": [
        {
          "output_type": "execute_result",
          "data": {
            "text/plain": [
              "<matplotlib.axes._subplots.AxesSubplot at 0x2574f385240>"
            ]
          },
          "metadata": {
            "tags": []
          },
          "execution_count": 21
        },
        {
          "output_type": "display_data",
          "data": {
            "image/png": "[encoded data removed]",
            "text/plain": [
              "<Figure size 360x360 with 1 Axes>"
            ]
          },
          "metadata": {
            "tags": []
          }
        }
      ]
    },
    {
      "cell_type": "code",
      "metadata": {
        "id": "4JvqfyQgLZfd",
        "colab_type": "code",
        "colab": {},
        "outputId": "9306bac1-a5cb-4281-8693-bee57b053965"
      },
      "source": [
        "pd.crosstab(users['UserPaymentOperatorID'], users['UserPaymentStatus'])"
      ],
      "execution_count": 0,
      "outputs": [
        {
          "output_type": "execute_result",
          "data": {
            "text/html": [
              "<div>\n",
              "<style scoped>\n",
              "    .dataframe tbody tr th:only-of-type {\n",
              "        vertical-align: middle;\n",
              "    }\n",
              "\n",
              "    .dataframe tbody tr th {\n",
              "        vertical-align: top;\n",
              "    }\n",
              "\n",
              "    .dataframe thead th {\n",
              "        text-align: right;\n",
              "    }\n",
              "</style>\n",
              "<table border=\"1\" class=\"dataframe\">\n",
              "  <thead>\n",
              "    <tr style=\"text-align: right;\">\n",
              "      <th>UserPaymentStatus</th>\n",
              "      <th>0</th>\n",
              "      <th>1</th>\n",
              "    </tr>\n",
              "    <tr>\n",
              "      <th>UserPaymentOperatorID</th>\n",
              "      <th></th>\n",
              "      <th></th>\n",
              "    </tr>\n",
              "  </thead>\n",
              "  <tbody>\n",
              "    <tr>\n",
              "      <th>100001</th>\n",
              "      <td>567</td>\n",
              "      <td>439</td>\n",
              "    </tr>\n",
              "    <tr>\n",
              "      <th>100002</th>\n",
              "      <td>9564</td>\n",
              "      <td>6233</td>\n",
              "    </tr>\n",
              "    <tr>\n",
              "      <th>100003</th>\n",
              "      <td>2104</td>\n",
              "      <td>799</td>\n",
              "    </tr>\n",
              "  </tbody>\n",
              "</table>\n",
              "</div>"
            ],
            "text/plain": [
              "UserPaymentStatus         0     1\n",
              "UserPaymentOperatorID            \n",
              "100001                  567   439\n",
              "100002                 9564  6233\n",
              "100003                 2104   799"
            ]
          },
          "metadata": {
            "tags": []
          },
          "execution_count": 22
        }
      ]
    },
    {
      "cell_type": "markdown",
      "metadata": {
        "id": "xA8d05WhLZff",
        "colab_type": "text"
      },
      "source": [
        "# Categorical features"
      ]
    },
    {
      "cell_type": "code",
      "metadata": {
        "id": "fS-JN9zKLZfg",
        "colab_type": "code",
        "colab": {},
        "outputId": "046a58ab-b6d7-4c75-aa29-d43c8d37120b"
      },
      "source": [
        "print(users.groupby('UserPaymentOperatorID')['UserPaymentOperatorID'].count()) "
      ],
      "execution_count": 0,
      "outputs": [
        {
          "output_type": "stream",
          "text": [
            "UserPaymentOperatorID\n",
            "100001     1006\n",
            "100002    15797\n",
            "100003     2903\n",
            "Name: UserPaymentOperatorID, dtype: int64\n"
          ],
          "name": "stdout"
        }
      ]
    },
    {
      "cell_type": "code",
      "metadata": {
        "id": "N4FxJnaFLZfi",
        "colab_type": "code",
        "colab": {},
        "outputId": "dd187909-84ee-4d25-eba0-79489e0ed216"
      },
      "source": [
        "from numpy import array\n",
        "from numpy import argmax\n",
        "from sklearn.preprocessing import LabelEncoder\n",
        "from sklearn.preprocessing import OneHotEncoder\n",
        "# define example\n",
        "users['operators'] = users['UserPaymentOperatorID']\n",
        "values = array(users['operators'])\n",
        "print(values)\n",
        "# integer encode\n",
        "label_encoder = LabelEncoder()\n",
        "integer_encoded = label_encoder.fit_transform(values)\n",
        "print(integer_encoded)\n",
        "# binary encode\n",
        "onehot_encoder = OneHotEncoder(sparse=False)\n",
        "integer_encoded = integer_encoded.reshape(len(integer_encoded), 1)\n",
        "onehot_encoded = onehot_encoder.fit_transform(integer_encoded)\n",
        "print(onehot_encoded)\n",
        "# invert first example\n",
        "inverted = label_encoder.inverse_transform([argmax(onehot_encoded[0, :])])\n",
        "print(inverted)"
      ],
      "execution_count": 0,
      "outputs": [
        {
          "output_type": "stream",
          "text": [
            "[100002 100002 100002 ... 100002 100002 100002]\n",
            "[1 1 1 ... 1 1 1]\n",
            "[[0. 1. 0.]\n",
            " [0. 1. 0.]\n",
            " [0. 1. 0.]\n",
            " ...\n",
            " [0. 1. 0.]\n",
            " [0. 1. 0.]\n",
            " [0. 1. 0.]]\n",
            "[100002]\n"
          ],
          "name": "stdout"
        },
        {
          "output_type": "stream",
          "text": [
            "C:\\Users\\hp\\Anaconda3\\lib\\site-packages\\sklearn\\preprocessing\\label.py:151: DeprecationWarning: The truth value of an empty array is ambiguous. Returning False, but in future this will result in an error. Use `array.size > 0` to check that an array is not empty.\n",
            "  if diff:\n"
          ],
          "name": "stderr"
        }
      ]
    },
    {
      "cell_type": "code",
      "metadata": {
        "id": "AoR3R1ahLZfl",
        "colab_type": "code",
        "colab": {},
        "outputId": "a135465b-f450-414c-a4c0-fe6d2b005a24"
      },
      "source": [
        "users.groupby([\"UserPaymentIsRecurring\", \"UserPaymentStatus\"]).size().unstack().plot(kind='bar', stacked=True, figsize=(5,5)) "
      ],
      "execution_count": 0,
      "outputs": [
        {
          "output_type": "execute_result",
          "data": {
            "text/plain": [
              "<matplotlib.axes._subplots.AxesSubplot at 0x2574f9237b8>"
            ]
          },
          "metadata": {
            "tags": []
          },
          "execution_count": 25
        },
        {
          "output_type": "display_data",
          "data": {
            "image/png": "[encoded data removed]",
            "text/plain": [
              "<Figure size 360x360 with 1 Axes>"
            ]
          },
          "metadata": {
            "tags": []
          }
        }
      ]
    },
    {
      "cell_type": "code",
      "metadata": {
        "id": "nOXg3xLRLZfo",
        "colab_type": "code",
        "colab": {},
        "outputId": "1e12150b-c12a-4369-9a72-1f96c26b23f6"
      },
      "source": [
        "print(tapmad_users.groupby('UserPaymentIsRecurring')['UserPaymentIsRecurring'].count()) "
      ],
      "execution_count": 0,
      "outputs": [
        {
          "output_type": "stream",
          "text": [
            "UserPaymentIsRecurring\n",
            "1    19706\n",
            "Name: UserPaymentIsRecurring, dtype: int64\n"
          ],
          "name": "stdout"
        }
      ]
    },
    {
      "cell_type": "code",
      "metadata": {
        "id": "tifj4cjaLZfq",
        "colab_type": "code",
        "colab": {}
      },
      "source": [
        "tapmad_users.UserSubscriptionExpiryDate = pd.to_datetime(tapmad_users.UserSubscriptionExpiryDate, format='%Y-%m-%d')\n",
        "tapmad_users.UserSubscriptionStartDate = pd.to_datetime(tapmad_users.UserSubscriptionStartDate, format='%Y-%m-%d')\n",
        "tapmad_users.UserPaymentStartDate = pd.to_datetime(tapmad_users.UserPaymentStartDate, format='%Y-%m-%d')"
      ],
      "execution_count": 0,
      "outputs": []
    },
    {
      "cell_type": "code",
      "metadata": {
        "id": "PkAsl-QtLZfu",
        "colab_type": "code",
        "colab": {},
        "outputId": "be5f9656-b484-405d-b021-29c982e454eb"
      },
      "source": [
        "tapmad_users.UserSubscriptionExpiryDate.describe()"
      ],
      "execution_count": 0,
      "outputs": [
        {
          "output_type": "execute_result",
          "data": {
            "text/plain": [
              "count                   19706\n",
              "unique                  12004\n",
              "top       2018-08-16 18:10:13\n",
              "freq                        6\n",
              "first     2018-06-30 23:57:42\n",
              "last      2018-08-23 13:31:09\n",
              "Name: UserSubscriptionExpiryDate, dtype: object"
            ]
          },
          "metadata": {
            "tags": []
          },
          "execution_count": 28
        }
      ]
    },
    {
      "cell_type": "code",
      "metadata": {
        "id": "U0ral7epLZfx",
        "colab_type": "code",
        "colab": {},
        "outputId": "31d59122-c28d-4758-a4c1-eacdfd0f56eb"
      },
      "source": [
        "tapmad_users.UserSubscriptionStartDate.describe()"
      ],
      "execution_count": 0,
      "outputs": [
        {
          "output_type": "execute_result",
          "data": {
            "text/plain": [
              "count                   19706\n",
              "unique                  11979\n",
              "top       2018-07-02 00:18:24\n",
              "freq                        7\n",
              "first     2018-07-01 00:00:34\n",
              "last      2018-07-31 23:52:52\n",
              "Name: UserSubscriptionStartDate, dtype: object"
            ]
          },
          "metadata": {
            "tags": []
          },
          "execution_count": 29
        }
      ]
    },
    {
      "cell_type": "code",
      "metadata": {
        "id": "sUU_PjNILZf0",
        "colab_type": "code",
        "colab": {},
        "outputId": "5f60a6d3-a57b-4355-bc41-61c038054e75"
      },
      "source": [
        "tapmad_users.UserPaymentStartDate.describe()"
      ],
      "execution_count": 0,
      "outputs": [
        {
          "output_type": "execute_result",
          "data": {
            "text/plain": [
              "count                   19706\n",
              "unique                  19526\n",
              "top       2018-07-26 18:37:09\n",
              "freq                        3\n",
              "first     2018-07-01 00:05:18\n",
              "last      2018-08-02 13:43:11\n",
              "Name: UserPaymentStartDate, dtype: object"
            ]
          },
          "metadata": {
            "tags": []
          },
          "execution_count": 30
        }
      ]
    },
    {
      "cell_type": "code",
      "metadata": {
        "id": "k8Nku1H_LZf3",
        "colab_type": "code",
        "colab": {}
      },
      "source": [
        "# Create target variable\n",
        "start_date = pd.to_datetime('2018-07-19', format='%Y-%m-%d')\n",
        "users['churn'] = users.UserSubscriptionExpiryDate.map(lambda x: x < start_date - datetime.timedelta(0,0,0))"
      ],
      "execution_count": 0,
      "outputs": []
    },
    {
      "cell_type": "code",
      "metadata": {
        "id": "IU8cMNBLLZf9",
        "colab_type": "code",
        "colab": {}
      },
      "source": [
        "users['churn'] = users['churn'].astype(int)"
      ],
      "execution_count": 0,
      "outputs": []
    },
    {
      "cell_type": "code",
      "metadata": {
        "id": "vcLmpuaALZgB",
        "colab_type": "code",
        "colab": {},
        "outputId": "e9914ced-8b64-4700-c84e-b1a5f5d53cdd"
      },
      "source": [
        "users.churn.value_counts(dropna=False)"
      ],
      "execution_count": 0,
      "outputs": [
        {
          "output_type": "execute_result",
          "data": {
            "text/plain": [
              "0    14427\n",
              "1     5279\n",
              "Name: churn, dtype: int64"
            ]
          },
          "metadata": {
            "tags": []
          },
          "execution_count": 33
        }
      ]
    },
    {
      "cell_type": "code",
      "metadata": {
        "id": "1XnqkfLFLZgD",
        "colab_type": "code",
        "colab": {}
      },
      "source": [
        ""
      ],
      "execution_count": 0,
      "outputs": []
    }
  ]
}